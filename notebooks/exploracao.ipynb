{
 "cells": [
  {
   "cell_type": "markdown",
   "metadata": {},
   "source": [
    "## Lendos os dados"
   ]
  },
  {
   "cell_type": "code",
   "execution_count": 67,
   "metadata": {},
   "outputs": [],
   "source": [
    "import json\n",
    "import csv\n",
    "import pandas as pd\n",
    "import openpyxl"
   ]
  },
  {
   "cell_type": "code",
   "execution_count": 68,
   "metadata": {},
   "outputs": [],
   "source": [
    "path_json = '../data_raw/dados_empresaA.json'\n",
    "path_csv = '../data_raw/dados_empresaB.csv'\n",
    "dados_csv_v2 = pd.read_csv(path_csv, delimiter=',')\n",
    "dados_json_v2 = pd.read_json(path_json)"
   ]
  },
  {
   "cell_type": "code",
   "execution_count": 69,
   "metadata": {},
   "outputs": [],
   "source": [
    "dados_csv_v2 = pd.read_csv(path_csv, delimiter=',')\n",
    "dados_json_v2 = pd.read_json(path_json)\n",
    "\n"
   ]
  },
  {
   "cell_type": "markdown",
   "metadata": {},
   "source": [
    "## Transformando os dados\n"
   ]
  },
  {
   "cell_type": "code",
   "execution_count": 70,
   "metadata": {},
   "outputs": [],
   "source": [
    "dados_json_v2\n",
    " # Nome do Produto - Categoria do Produto - Preço do Produto (R$) - Quantidade em Estoque\t- Filial\n",
    "dados_csv_v2 \n",
    "# Nome do Item\t- Classificação do Produto - Valor em Reais (R$) - Quantidade em Estoque - Nome da Loja\t - Data da Venda\n",
    "\n",
    "dados_csv_v2 = dados_csv_v2.rename(columns={\n",
    "'Nome do Item':'Nome do Produto',\n",
    "'Classificação do Produto' :'Categoria do Produto' ,\n",
    "'Valor em Reais (R$)':'Preço do Produto (R$)',\n",
    "'Quantidade em Estoque':'Quantidade em Estoque',\n",
    "'Nome da Loja':'Filial',\n",
    "'Data da Venda':'Data da Venda'\n",
    "})\n",
    "dados_csv_v2['Data da Venda'] = pd.to_datetime(dados_csv_v2['Data da Venda']).dt.date"
   ]
  },
  {
   "cell_type": "markdown",
   "metadata": {},
   "source": [
    "## Unificando os dados\n"
   ]
  },
  {
   "cell_type": "code",
   "execution_count": 79,
   "metadata": {},
   "outputs": [],
   "source": [
    "combinado = pd.concat([dados_csv_v2,dados_json_v2]).reset_index(drop=True)\n",
    "combinado.fillna({\n",
    "    'Data da Venda':'Indisponivel'\n",
    "},inplace=True)"
   ]
  },
  {
   "cell_type": "markdown",
   "metadata": {},
   "source": [
    "## Salvando os dados\n"
   ]
  },
  {
   "cell_type": "code",
   "execution_count": 81,
   "metadata": {},
   "outputs": [
    {
     "ename": "TypeError",
     "evalue": "ExcelWriter.__new__() got an unexpected keyword argument 'sheet_name'",
     "output_type": "error",
     "traceback": [
      "\u001b[0;31m---------------------------------------------------------------------------\u001b[0m",
      "\u001b[0;31mTypeError\u001b[0m                                 Traceback (most recent call last)",
      "Cell \u001b[0;32mIn[81], line 11\u001b[0m\n\u001b[1;32m      8\u001b[0m caminho \u001b[38;5;241m=\u001b[39m \u001b[38;5;124m'\u001b[39m\u001b[38;5;124m../data_processed/\u001b[39m\u001b[38;5;124m'\u001b[39m\n\u001b[1;32m      9\u001b[0m arquivo \u001b[38;5;241m=\u001b[39m \u001b[38;5;124m'\u001b[39m\u001b[38;5;124mdados_completo.xlsx\u001b[39m\u001b[38;5;124m'\u001b[39m\n\u001b[0;32m---> 11\u001b[0m caminho_completo \u001b[38;5;241m=\u001b[39m \u001b[43msalvar_arquivo\u001b[49m\u001b[43m(\u001b[49m\u001b[43mcaminho\u001b[49m\u001b[43m,\u001b[49m\u001b[43marquivo\u001b[49m\u001b[43m)\u001b[49m\n\u001b[1;32m     14\u001b[0m \u001b[38;5;66;03m# caminho_completo = caminho + arquivo\u001b[39;00m\n\u001b[1;32m     15\u001b[0m \n\u001b[1;32m     16\u001b[0m \u001b[38;5;66;03m# with pd.ExcelWriter(caminho_completo) as writer:\u001b[39;00m\n\u001b[1;32m     17\u001b[0m \u001b[38;5;66;03m#     combinado.to_excel(writer,index=False)\u001b[39;00m\n",
      "Cell \u001b[0;32mIn[81], line 3\u001b[0m, in \u001b[0;36msalvar_arquivo\u001b[0;34m(caminho, arquivo)\u001b[0m\n\u001b[1;32m      1\u001b[0m \u001b[38;5;28;01mdef\u001b[39;00m \u001b[38;5;21msalvar_arquivo\u001b[39m(caminho,arquivo):\n\u001b[1;32m      2\u001b[0m     caminho_completo \u001b[38;5;241m=\u001b[39m caminho \u001b[38;5;241m+\u001b[39m arquivo\n\u001b[0;32m----> 3\u001b[0m     \u001b[38;5;28;01mwith\u001b[39;00m \u001b[43mpd\u001b[49m\u001b[38;5;241;43m.\u001b[39;49m\u001b[43mExcelWriter\u001b[49m\u001b[43m(\u001b[49m\u001b[43mcaminho_completo\u001b[49m\u001b[43m,\u001b[49m\u001b[43msheet_name\u001b[49m\u001b[43m \u001b[49m\u001b[38;5;241;43m=\u001b[39;49m\u001b[43m \u001b[49m\u001b[38;5;124;43m\"\u001b[39;49m\u001b[38;5;124;43munificado_jan\u001b[39;49m\u001b[38;5;124;43m\"\u001b[39;49m\u001b[43m)\u001b[49m \u001b[38;5;28;01mas\u001b[39;00m writer:\n\u001b[1;32m      4\u001b[0m         combinado\u001b[38;5;241m.\u001b[39mto_excel(writer,index\u001b[38;5;241m=\u001b[39m\u001b[38;5;28;01mFalse\u001b[39;00m)\n\u001b[1;32m      6\u001b[0m     \u001b[38;5;28;01mreturn\u001b[39;00m caminho_completo\n",
      "\u001b[0;31mTypeError\u001b[0m: ExcelWriter.__new__() got an unexpected keyword argument 'sheet_name'"
     ]
    }
   ],
   "source": [
    "def salvar_arquivo(caminho,arquivo):\n",
    "    caminho_completo = caminho + arquivo\n",
    "    with pd.ExcelWriter(caminho_completo) as writer:\n",
    "        combinado.to_excel(writer,index=False)\n",
    "    \n",
    "    return caminho_completo\n",
    "\n",
    "caminho = '../data_processed/'\n",
    "arquivo = 'dados_completo.xlsx'\n",
    "\n",
    "caminho_completo = salvar_arquivo(caminho,arquivo)\n",
    "\n",
    "\n",
    "# caminho_completo = caminho + arquivo\n",
    "\n",
    "# with pd.ExcelWriter(caminho_completo) as writer:\n",
    "#     combinado.to_excel(writer,index=False)"
   ]
  },
  {
   "cell_type": "code",
   "execution_count": null,
   "metadata": {},
   "outputs": [],
   "source": []
  },
  {
   "cell_type": "code",
   "execution_count": null,
   "metadata": {},
   "outputs": [],
   "source": []
  },
  {
   "cell_type": "code",
   "execution_count": null,
   "metadata": {},
   "outputs": [],
   "source": []
  },
  {
   "cell_type": "code",
   "execution_count": null,
   "metadata": {},
   "outputs": [],
   "source": []
  },
  {
   "cell_type": "code",
   "execution_count": null,
   "metadata": {},
   "outputs": [],
   "source": []
  },
  {
   "cell_type": "code",
   "execution_count": null,
   "metadata": {},
   "outputs": [],
   "source": []
  },
  {
   "cell_type": "code",
   "execution_count": null,
   "metadata": {},
   "outputs": [],
   "source": []
  }
 ],
 "metadata": {
  "kernelspec": {
   "display_name": ".venv",
   "language": "python",
   "name": "python3"
  },
  "language_info": {
   "codemirror_mode": {
    "name": "ipython",
    "version": 3
   },
   "file_extension": ".py",
   "mimetype": "text/x-python",
   "name": "python",
   "nbconvert_exporter": "python",
   "pygments_lexer": "ipython3",
   "version": "3.10.12"
  }
 },
 "nbformat": 4,
 "nbformat_minor": 2
}
